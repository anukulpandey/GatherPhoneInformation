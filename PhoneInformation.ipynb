{
  "nbformat": 4,
  "nbformat_minor": 0,
  "metadata": {
    "colab": {
      "name": "PhoneInformation.ipynb",
      "provenance": [],
      "collapsed_sections": []
    },
    "kernelspec": {
      "name": "python3",
      "display_name": "Python 3"
    },
    "language_info": {
      "name": "python"
    }
  },
  "cells": [
    {
      "cell_type": "markdown",
      "metadata": {
        "id": "gxIx5_zuyMBp"
      },
      "source": [
        "**Information about phone numbers just from phone numbers**\n"
      ]
    },
    {
      "cell_type": "markdown",
      "metadata": {
        "id": "609QrFQlygKV"
      },
      "source": [
        "Enter your phone number beloy and it will tell information about it.\n"
      ]
    },
    {
      "cell_type": "code",
      "metadata": {
        "colab": {
          "base_uri": "https://localhost:8080/"
        },
        "id": "raEx0iIayCan",
        "outputId": "289eef8f-9c49-4a12-a69f-759e7fa06c07"
      },
      "source": [
        "!pip install phonenumbers"
      ],
      "execution_count": 1,
      "outputs": [
        {
          "output_type": "stream",
          "text": [
            "Collecting phonenumbers\n",
            "\u001b[?25l  Downloading https://files.pythonhosted.org/packages/9e/a1/d6dc06c21e949ab84bed68353922e9baa5bf0557e89cc0f7c17a4be1db75/phonenumbers-8.12.23-py2.py3-none-any.whl (2.6MB)\n",
            "\u001b[K     |████████████████████████████████| 2.6MB 28.8MB/s \n",
            "\u001b[?25hInstalling collected packages: phonenumbers\n",
            "Successfully installed phonenumbers-8.12.23\n"
          ],
          "name": "stdout"
        }
      ]
    },
    {
      "cell_type": "code",
      "metadata": {
        "colab": {
          "base_uri": "https://localhost:8080/"
        },
        "id": "UJZC8Oydyp03",
        "outputId": "c5a3f5ed-14af-44f8-9457-cfb43f7c84ac"
      },
      "source": [
        "# Take input \n",
        "print('Please enter the country code of phone number you want information of:',end=\"\")\n",
        "country_code=input()\n",
        "\n",
        "print('Please enter the phone number you want information of:',end=\"\")\n",
        "phone_number=input()\n",
        "\n",
        "phone_no=f\"+{country_code}{phone_number}\""
      ],
      "execution_count": 10,
      "outputs": [
        {
          "output_type": "stream",
          "text": [
            "Please enter the country code of phone number you want information of:91\n",
            "Please enter the phone number you want information of:6260562030\n"
          ],
          "name": "stdout"
        }
      ]
    },
    {
      "cell_type": "code",
      "metadata": {
        "colab": {
          "base_uri": "https://localhost:8080/"
        },
        "id": "paSW9SR9zXDv",
        "outputId": "b195439b-207a-4e6a-a8dd-4084a85cc126"
      },
      "source": [
        "# Import modules\n",
        "import phonenumbers\n",
        "from phonenumbers import geocoder\n",
        "from phonenumbers import carrier\n",
        "# Check phone number\n",
        "user_data = phonenumbers.parse(phone_no, None)\n",
        "if(phonenumbers.is_possible_number(user_data)):\n",
        "  print('Phone number is valid')\n",
        "else:\n",
        "  print('Invalid phone number')\n",
        "\n",
        "# Output data\n",
        "print(\"Country:\",geocoder.description_for_number(user_data,\"en\"))\n",
        "print(\"Service Provider:\",carrier.name_for_number(user_data,'en'))\n"
      ],
      "execution_count": 27,
      "outputs": [
        {
          "output_type": "stream",
          "text": [
            "Phone number is valid\n",
            "Country: India\n",
            "Service Provider: Reliance Jio\n"
          ],
          "name": "stdout"
        }
      ]
    }
  ]
}